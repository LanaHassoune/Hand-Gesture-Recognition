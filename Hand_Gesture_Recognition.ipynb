{
 "cells": [
  {
   "cell_type": "markdown",
   "metadata": {
    "id": "X6WDvajSqIDs"
   },
   "source": [
    "# Hand Gesture Recognition\n",
    "\n",
    "This code is based on an assignment developed by Prof. Lisa Zhang. "
   ]
  },
  {
   "cell_type": "markdown",
   "metadata": {
    "id": "kvTXpH_kqIDy"
   },
   "source": [
    "## Data Collection\n",
    "\n",
    "Datasets like MNIST and CIFAR are often used as toy examples, both by students and by researchers testing new machine learning models. In the real world, getting a clean data set is never that easy. More than half the work in applying machine learning is finding, gathering, cleaning, and formatting your data set.\n",
    "\n",
    "### American Sign Language\n",
    "\n",
    "American Sign Language (ASL) is a complete, complex language that employs signs made by moving the\n",
    "hands combined with facial expressions and postures of the body. It is the primary language of many\n",
    "North Americans who are deaf and is one of several communication options used by people who are deaf or\n",
    "hard-of-hearing.\n",
    "\n",
    "The hand gestures representing English alphabet are shown below. This code focuses on classifying a subset\n",
    "of these hand gesture images using convolutional neural networks. Specifically, given an image of a hand\n",
    "showing one of the letters A-I, we want to detect which letter is being represented.\n",
    "\n",
    "![alt text](https://www.disabled-world.com/pics/1/asl-alphabet.jpg)"
   ]
  },
  {
   "cell_type": "markdown",
   "metadata": {
    "id": "bJxMgWGNqID2"
   },
   "source": [
    "## Building a CNN"
   ]
  },
  {
   "cell_type": "markdown",
   "metadata": {
    "id": "MiDuQaAh56sT"
   },
   "source": [
    "### Data Loading and Splitting"
   ]
  },
  {
   "cell_type": "code",
   "execution_count": null,
   "metadata": {
    "colab": {
     "base_uri": "https://localhost:8080/"
    },
    "id": "WBrH5kBqRLa6",
    "outputId": "0fd2cd59-e3fb-419f-98d7-118384603848"
   },
   "outputs": [
    {
     "name": "stdout",
     "output_type": "stream",
     "text": [
      "Drive already mounted at /content/gdrive; to attempt to forcibly remount, call drive.mount(\"/content/gdrive\", force_remount=True).\n"
     ]
    }
   ],
   "source": [
    "from google.colab import drive\n",
    "drive.mount('/content/gdrive')"
   ]
  },
  {
   "cell_type": "code",
   "execution_count": null,
   "metadata": {},
   "outputs": [],
   "source": [
    "!unzip /content/gdrive/MyDrive/Gesture_Dataset.zip"
   ]
  },
  {
   "cell_type": "code",
   "execution_count": null,
   "metadata": {
    "id": "NQsoUNjh2_En"
   },
   "outputs": [],
   "source": [
    "import time\n",
    "import torch\n",
    "import torch.nn as nn\n",
    "import torch.nn.functional as F\n",
    "import torch.optim as optim\n",
    "import torchvision\n",
    "from torch.utils.data.sampler import SubsetRandomSampler\n",
    "import torchvision.transforms as transforms\n",
    "from torchvision import datasets\n",
    "import numpy as np"
   ]
  },
  {
   "cell_type": "markdown",
   "metadata": {
    "id": "Nqb2IpEr7LD_"
   },
   "source": [
    "I will split the data into 70% training, 15% validation and 15% testing using the random_split function in pytorch.\n",
    "\n",
    "It shuffles the pictures and selects some of the images to be in training, others in validation and the rest in testing. Note that the manual seed is to ensure the reproducibility of the results."
   ]
  },
  {
   "cell_type": "code",
   "execution_count": null,
   "metadata": {
    "id": "6mplXkkd3CAZ"
   },
   "outputs": [],
   "source": [
    "dataset = torchvision.datasets.ImageFolder('/content/Gesture_Dataset',transform=transforms.Compose([transforms.CenterCrop(224),transforms.ToTensor()]))\n",
    "train_sampler,val_sampler,test_sampler=torch.utils.data.random_split(dataset,[1703,364,364],generator=torch.Generator().manual_seed(42))\n",
    "\n",
    "\n",
    "def get_data_loader(batch_size):\n",
    "\n",
    "    train_loader = torch.utils.data.DataLoader(train_sampler, batch_size=batch_size, num_workers=0, shuffle=True)\n",
    "    val_loader = torch.utils.data.DataLoader(val_sampler, batch_size=batch_size,num_workers=0, shuffle=True)\n",
    "    test_loader = torch.utils.data.DataLoader(test_sampler, batch_size=batch_size,num_workers=0, shuffle=True)\n",
    "\n",
    "    return train_loader, val_loader, test_loader"
   ]
  },
  {
   "cell_type": "code",
   "execution_count": null,
   "metadata": {
    "id": "tIm7Xwvm3DN7"
   },
   "outputs": [],
   "source": [
    "train_loader, val_loader, test_loader = get_data_loader(batch_size=64)"
   ]
  },
  {
   "cell_type": "markdown",
   "metadata": {
    "id": "5VWX4DGY5gQE"
   },
   "source": [
    "### Model Building and Sanity Checking"
   ]
  },
  {
   "cell_type": "markdown",
   "metadata": {
    "id": "RvSf1oTBRatr"
   },
   "source": [
    "The architecture that I chose is: 2 convolutional layers, 2 pooling layers and 3 linear fully connected layers (similar to LeNet-5). I figured since this is a simple and effective way to start off our prediction model, I can modify it in the hyperparameter tuning part to get a faster or better model.\n",
    "\n",
    "As for the pooling layers, we need to consolidate the information and reduce the size of the initial image, for this reason, I used max pooling with kernels of size 2x2 and a stride of 2. I applied relu as the activation function because it is more effective than sigmoid and tanh for this case.\n",
    "\n",
    "For the number of channels, I started with the first convolutional layer of 3 channels (because our input is an image), then the ouput channels are 5, feed this into the pooling layers and then into the second convolutional layer of output channels 10, then feed it into another pooling layer and then into our fully connected layers. This could be optimized in the second part of this code."
   ]
  },
  {
   "cell_type": "code",
   "execution_count": null,
   "metadata": {
    "id": "2dtx1z5951fS"
   },
   "outputs": [],
   "source": [
    "class HandGestureClassifer(nn.Module):\n",
    "  def __init__(self):\n",
    "    super(HandGestureClassifer, self).__init__()\n",
    "    self.name=\"HandGesture\"\n",
    "    self.conv1 = nn.Conv2d(3, 5, 5) #in_channels, out_chanels, kernel_size\n",
    "    self.pool = nn.MaxPool2d(2, 2) #kernel_size, stride \n",
    "    self.conv2 = nn.Conv2d(5, 10, 5) #in_channels, out_chanels, kernel_size\n",
    "    self.fc1 = nn.Linear(10*53*53, 32)\n",
    "    self.fc2 = nn.Linear(32, 9)\n",
    "\n",
    "  def forward(self, x):\n",
    "    x = self.pool(F.relu(self.conv1(x)))\n",
    "    x = self.pool(F.relu(self.conv2(x)))\n",
    "    x = x.view(-1, 10*53*53)\n",
    "    x = F.relu(self.fc1(x))\n",
    "    x = self.fc2(x)\n",
    "    return x"
   ]
  },
  {
   "cell_type": "markdown",
   "metadata": {
    "id": "XeGvelvb515e"
   },
   "source": [
    "### Training Code"
   ]
  },
  {
   "cell_type": "markdown",
   "metadata": {
    "id": "hsm1dPvO6aIu"
   },
   "source": [
    "Since this is a multiclass classification problem, the loss function will be cross entropy loss, and I will use nn.CrossEntropyLoss() because it is more effectively calculating the loss. The optimizer is SGD because it reduces the cost of computing the gradient when we have batches and we have batches of 64."
   ]
  },
  {
   "cell_type": "code",
   "execution_count": null,
   "metadata": {
    "id": "17YTQv4l54W1"
   },
   "outputs": [],
   "source": [
    "def get_model_name(name, batch_size, learning_rate, epoch):\n",
    "    path = \"model_{0}_bs{1}_lr{2}_epoch{3}\".format(name,\n",
    "                                                   batch_size,\n",
    "                                                   learning_rate,\n",
    "                                                   epoch)\n",
    "    return path\n",
    "    \n",
    "def normalize_label(labels):\n",
    "    max_val = torch.max(labels)\n",
    "    min_val = torch.min(labels)\n",
    "    norm_labels = (labels - min_val)/(max_val - min_val)\n",
    "    return norm_labels\n",
    "    \n",
    "def evaluate(net, loader, criterion):\n",
    "    total_loss = 0.0\n",
    "    total_err = 0.0\n",
    "    total_accuracy=0.0\n",
    "    total_epoch = 0\n",
    "    for i, data in enumerate(loader,0):\n",
    "      inputs, labels=data\n",
    "      if use_cuda and torch.cuda.is_available():\n",
    "        inputs = inputs.cuda()\n",
    "        labels = labels.cuda()\n",
    "      outputs = net(inputs)\n",
    "      loss = criterion(outputs, labels)\n",
    "      corr=(torch.argmax(outputs, axis=1)== labels)\n",
    "      total_accuracy += int(corr.sum())\n",
    "      total_loss += loss.item()\n",
    "      total_epoch += len(labels)\n",
    "    err = 1-(float(total_accuracy) / total_epoch)\n",
    "    loss = float(total_loss) / (i + 1)\n",
    "    return err, loss\n",
    "\n",
    "def train_net(net, batch_size=64, learning_rate=0.01, num_epochs=30):\n",
    "    torch.manual_seed(1000)\n",
    "    train_loader, val_loader, test_loader = get_data_loader(batch_size)\n",
    "    criterion = nn.CrossEntropyLoss()\n",
    "    optimizer = optim.SGD(net.parameters(), lr=learning_rate, momentum=0.9)\n",
    "    train_err = np.zeros(num_epochs)\n",
    "    train_loss = np.zeros(num_epochs)\n",
    "    val_err = np.zeros(num_epochs)\n",
    "    val_loss = np.zeros(num_epochs)\n",
    "\n",
    "    start_time = time.time()\n",
    "    for epoch in range(num_epochs):\n",
    "        total_train_loss = 0.0\n",
    "        total_train_err = 0.0\n",
    "        total_train_accuracy = 0.0\n",
    "        total_epoch = 0\n",
    "        for i, data in enumerate(train_loader,0):\n",
    "          inputs, labels=data\n",
    "          if use_cuda and torch.cuda.is_available():\n",
    "            inputs = inputs.cuda()\n",
    "            labels = labels.cuda()\n",
    "          optimizer.zero_grad()\n",
    "          outputs = net(inputs)\n",
    "          loss = criterion(outputs, labels)\n",
    "          loss.backward()\n",
    "          optimizer.step()\n",
    "          corr=(torch.argmax(outputs, axis=1) == labels)\n",
    "          total_train_accuracy += int(corr.sum())\n",
    "          total_train_loss += loss.item()\n",
    "          total_epoch += len(labels)\n",
    "        train_err[epoch] = 1-(float(total_train_accuracy) / total_epoch)\n",
    "        train_loss[epoch] = float(total_train_loss) / (i+1)\n",
    "        val_err[epoch], val_loss[epoch] = evaluate(net, val_loader, criterion)\n",
    "        print((\"Epoch {}: Train err: {}, Train loss: {} |\"+\"Validation err: {}, Validation loss: {}\").format(epoch + 1,train_err[epoch],train_loss[epoch],val_err[epoch],val_loss[epoch]))\n",
    "\n",
    "        model_path = get_model_name(net.name, batch_size, learning_rate, epoch)\n",
    "        torch.save(net.state_dict(), model_path)\n",
    "    print('Finished Training')\n",
    "    end_time = time.time()\n",
    "    elapsed_time = end_time - start_time\n",
    "    print(\"Total time elapsed: {:.2f} seconds\".format(elapsed_time))\n",
    "\n",
    "    epochs = np.arange(1, num_epochs + 1)\n",
    "    np.savetxt(\"{}_train_err.csv\".format(model_path), train_err)\n",
    "    np.savetxt(\"{}_train_loss.csv\".format(model_path), train_loss)\n",
    "    np.savetxt(\"{}_val_err.csv\".format(model_path), val_err)\n",
    "    np.savetxt(\"{}_val_loss.csv\".format(model_path), val_loss)"
   ]
  },
  {
   "cell_type": "code",
   "execution_count": null,
   "metadata": {
    "colab": {
     "base_uri": "https://localhost:8080/"
    },
    "id": "RCuzgL63LJ23",
    "outputId": "33783b57-c497-4857-fb73-3ec872a9ad08"
   },
   "outputs": [
    {
     "name": "stdout",
     "output_type": "stream",
     "text": [
      "CUDA is available!  Training on GPU ...\n"
     ]
    },
    {
     "name": "stderr",
     "output_type": "stream",
     "text": [
      "/usr/local/lib/python3.7/dist-packages/torch/nn/functional.py:718: UserWarning: Named tensors and all their associated APIs are an experimental feature and subject to change. Please do not use them for anything important until they are released as stable. (Triggered internally at  /pytorch/c10/core/TensorImpl.h:1156.)\n",
      "  return torch.max_pool2d(input, kernel_size, stride, padding, dilation, ceil_mode)\n"
     ]
    },
    {
     "name": "stdout",
     "output_type": "stream",
     "text": [
      "Epoch 1: Train err: 0.8907809747504404, Train loss: 2.1996813085344105 |Validation err: 0.9148351648351648, Validation loss: 2.197457790374756\n",
      "Epoch 2: Train err: 0.8631826189078098, Train loss: 2.175135435881438 |Validation err: 0.7335164835164836, Validation loss: 2.1007827123006186\n",
      "Epoch 3: Train err: 0.6095126247798004, Train loss: 1.6753307404341522 |Validation err: 0.6153846153846154, Validation loss: 1.5234846870104473\n",
      "Epoch 4: Train err: 0.4398120963006459, Train loss: 1.2276701750578705 |Validation err: 0.37362637362637363, Validation loss: 1.085977206627528\n",
      "Epoch 5: Train err: 0.34527304756312394, Train loss: 1.0077371001243591 |Validation err: 0.36813186813186816, Validation loss: 1.0222512284914653\n",
      "Epoch 6: Train err: 0.3217850851438637, Train loss: 0.9439143096959149 |Validation err: 0.30219780219780223, Validation loss: 0.9239141643047333\n",
      "Epoch 7: Train err: 0.29183793305930705, Train loss: 0.875808718027892 |Validation err: 0.3214285714285714, Validation loss: 0.960715780655543\n",
      "Epoch 8: Train err: 0.27657075748678805, Train loss: 0.8144319156805674 |Validation err: 0.28846153846153844, Validation loss: 0.8831691245237986\n",
      "Epoch 9: Train err: 0.2513211978860834, Train loss: 0.7862199986422503 |Validation err: 0.35439560439560436, Validation loss: 1.0194082856178284\n",
      "Epoch 10: Train err: 0.28068115091015855, Train loss: 0.8465191412855078 |Validation err: 0.3571428571428571, Validation loss: 1.1245903571446736\n",
      "Epoch 11: Train err: 0.26541397533763944, Train loss: 0.7701966199609969 |Validation err: 0.2637362637362637, Validation loss: 0.7701369822025299\n",
      "Epoch 12: Train err: 0.2248972401644157, Train loss: 0.6652068893114725 |Validation err: 0.25274725274725274, Validation loss: 0.7882382969061533\n",
      "Epoch 13: Train err: 0.19083969465648853, Train loss: 0.5808591621893423 |Validation err: 0.23351648351648346, Validation loss: 0.7766123016675314\n",
      "Epoch 14: Train err: 0.182031708749266, Train loss: 0.5169018142753177 |Validation err: 0.25274725274725274, Validation loss: 0.8024376481771469\n",
      "Epoch 15: Train err: 0.16793893129770987, Train loss: 0.5027976323057104 |Validation err: 0.24450549450549453, Validation loss: 0.7818291584650675\n",
      "Epoch 16: Train err: 0.14973576042278336, Train loss: 0.4118378394179874 |Validation err: 0.21153846153846156, Validation loss: 0.727416937549909\n",
      "Epoch 17: Train err: 0.11802701115678216, Train loss: 0.3376040055795952 |Validation err: 0.23076923076923073, Validation loss: 0.7264845122893652\n",
      "Epoch 18: Train err: 0.10804462712859664, Train loss: 0.3306315888961156 |Validation err: 0.22252747252747251, Validation loss: 0.7299506366252899\n",
      "Epoch 19: Train err: 0.08044627128596593, Train loss: 0.22697501767564704 |Validation err: 0.21978021978021978, Validation loss: 0.9166786273320516\n",
      "Epoch 20: Train err: 0.11215502055196713, Train loss: 0.32350920471880174 |Validation err: 0.1923076923076923, Validation loss: 0.9145723283290863\n",
      "Epoch 21: Train err: 0.10628302994715211, Train loss: 0.30615705638020124 |Validation err: 0.20879120879120883, Validation loss: 0.7441031287113825\n",
      "Epoch 22: Train err: 0.07809747504403997, Train loss: 0.22936071234720726 |Validation err: 0.2554945054945055, Validation loss: 0.8983350296815237\n",
      "Epoch 23: Train err: 0.06576629477392837, Train loss: 0.17623455463736146 |Validation err: 0.23076923076923073, Validation loss: 0.9309868017832438\n",
      "Epoch 24: Train err: 0.04227833235466827, Train loss: 0.11841629059226425 |Validation err: 0.17582417582417587, Validation loss: 0.8550974602500597\n",
      "Epoch 25: Train err: 0.027598355842630706, Train loss: 0.08760760510685267 |Validation err: 0.1785714285714286, Validation loss: 0.9041557908058167\n",
      "Epoch 26: Train err: 0.014679976512037562, Train loss: 0.04614048903049142 |Validation err: 0.1785714285714286, Validation loss: 1.0615804692109425\n",
      "Epoch 27: Train err: 0.012331180270111597, Train loss: 0.0432504304960646 |Validation err: 0.19505494505494503, Validation loss: 1.3570514221986134\n",
      "Epoch 28: Train err: 0.007633587786259555, Train loss: 0.031896939018258345 |Validation err: 0.20329670329670335, Validation loss: 1.3324944972991943\n",
      "Epoch 29: Train err: 0.011156782149148614, Train loss: 0.035618889766434826 |Validation err: 0.2060439560439561, Validation loss: 1.2530072728792827\n",
      "Epoch 30: Train err: 0.014092777451556127, Train loss: 0.05561774051575749 |Validation err: 0.228021978021978, Validation loss: 1.2011886537075043\n",
      "Finished Training\n",
      "Total time elapsed: 215.94 seconds\n"
     ]
    }
   ],
   "source": [
    "HandGestureNet= HandGestureClassifer()\n",
    "\n",
    "use_cuda = True\n",
    "\n",
    "if use_cuda and torch.cuda.is_available():\n",
    "  HandGestureNet.cuda()\n",
    "  print('CUDA is available!  Training on GPU ...')\n",
    "else:\n",
    "  print('CUDA is not available.  Training on CPU ...')\n",
    "\n",
    "train_net(HandGestureNet, batch_size=64, learning_rate=0.01, num_epochs=30)"
   ]
  },
  {
   "cell_type": "markdown",
   "metadata": {
    "id": "oj54v_YRRc3Y"
   },
   "source": [
    "The model is overfitting because the training error is getting very close to 0 by the end of the 30th epoch, I could consider this a sanity check, and for preventing this overfitting, I would need to either stop the epochs at an earlier stage, or change the architecture, or tune the hyperparameters (which will be done in the next part)."
   ]
  },
  {
   "cell_type": "code",
   "execution_count": null,
   "metadata": {
    "id": "gP_9-jmAkXQr"
   },
   "outputs": [],
   "source": [
    "def plot_training_curve(path):\n",
    "    import matplotlib.pyplot as plt\n",
    "    train_err = np.loadtxt(\"{}_train_err.csv\".format(path))\n",
    "    val_err = np.loadtxt(\"{}_val_err.csv\".format(path))\n",
    "    train_loss = np.loadtxt(\"{}_train_loss.csv\".format(path))\n",
    "    val_loss = np.loadtxt(\"{}_val_loss.csv\".format(path))\n",
    "    plt.title(\"Train vs Validation Error\")\n",
    "    n = len(train_err) # number of epochs\n",
    "    plt.plot(range(1,n+1), train_err, label=\"Train\")\n",
    "    plt.plot(range(1,n+1), val_err, label=\"Validation\")\n",
    "    plt.xlabel(\"Epoch\")\n",
    "    plt.ylabel(\"Error\")\n",
    "    plt.legend(loc='best')\n",
    "    plt.show()\n",
    "    plt.title(\"Train vs Validation Loss\")\n",
    "    plt.plot(range(1,n+1), train_loss, label=\"Train\")\n",
    "    plt.plot(range(1,n+1), val_loss, label=\"Validation\")\n",
    "    plt.xlabel(\"Epoch\")\n",
    "    plt.ylabel(\"Loss\")\n",
    "    plt.legend(loc='best')\n",
    "    plt.show()"
   ]
  },
  {
   "cell_type": "code",
   "execution_count": null,
   "metadata": {
    "colab": {
     "base_uri": "https://localhost:8080/",
     "height": 573
    },
    "id": "rUu13PHVj-Yc",
    "outputId": "2dd07c7a-c559-4684-8776-56f8a435a61f"
   },
   "outputs": [
    {
     "data": {
      "image/png": "[encoded data removed]",
      "text/plain": [
       "<Figure size 432x288 with 1 Axes>"
      ]
     },
     "metadata": {
      "needs_background": "light"
     },
     "output_type": "display_data"
    },
    {
     "data": {
      "image/png": "[encoded data removed]",
      "text/plain": [
       "<Figure size 432x288 with 1 Axes>"
      ]
     },
     "metadata": {
      "needs_background": "light"
     },
     "output_type": "display_data"
    }
   ],
   "source": [
    "from sklearn.model_selection import learning_curve\n",
    "model_path = get_model_name(\"HandGesture\", batch_size=64, learning_rate=0.01, epoch=29)\n",
    "plot_training_curve(model_path)"
   ]
  },
  {
   "cell_type": "markdown",
   "metadata": {
    "id": "bk1RNgAj54rZ"
   },
   "source": [
    "### “Overfit” to a Small Dataset\n",
    "\n",
    "One way to sanity check our neural network model and training code is to check whether the model is capable\n",
    "of “overfitting” or “memorizing” a small dataset. A properly constructed CNN with correct training code\n",
    "should be able to memorize the answers to a small number of images quickly."
   ]
  },
  {
   "cell_type": "code",
   "execution_count": null,
   "metadata": {
    "colab": {
     "base_uri": "https://localhost:8080/"
    },
    "id": "DQPn7OTAu5m8",
    "outputId": "78990a9d-b2b6-4c7a-8873-fcb8d1190b03"
   },
   "outputs": [
    {
     "name": "stdout",
     "output_type": "stream",
     "text": [
      "Archive:  /content/gdrive/MyDrive/Hassoune_1007806705.zip\n",
      "replace __MACOSX/._Hassoune_1007806705? [y]es, [n]o, [A]ll, [N]one, [r]ename: "
     ]
    }
   ],
   "source": [
    "!unzip /content/gdrive/MyDrive/Hassoune_1007806705.zip"
   ]
  },
  {
   "cell_type": "code",
   "execution_count": null,
   "metadata": {
    "id": "sVXY-r-Du_u6"
   },
   "outputs": [],
   "source": [
    "dataset2 = torchvision.datasets.ImageFolder('/content/Hassoune_1007806705',transform=transforms.Compose([transforms.CenterCrop(224),transforms.ToTensor()]))"
   ]
  },
  {
   "cell_type": "code",
   "execution_count": null,
   "metadata": {
    "colab": {
     "base_uri": "https://localhost:8080/"
    },
    "id": "LaCxkhofue7u",
    "outputId": "935161fa-c941-43d5-d765-8091b434c7e1"
   },
   "outputs": [
    {
     "name": "stdout",
     "output_type": "stream",
     "text": [
      "CUDA is available!  Training on GPU ...\n",
      "Epoch 1: Train err: 0.8888888888888888, Train loss: 0.08174761136372884\n",
      "Epoch 2: Train err: 0.8888888888888888, Train loss: 0.08391106570208515\n",
      "Epoch 3: Train err: 0.8888888888888888, Train loss: 0.08180553824813278\n",
      "Epoch 4: Train err: 0.7777777777777778, Train loss: 0.08096106847127278\n",
      "Epoch 5: Train err: 0.8888888888888888, Train loss: 0.0800625483194987\n",
      "Epoch 6: Train err: 0.7777777777777778, Train loss: 0.0792677225889983\n",
      "Epoch 7: Train err: 0.7407407407407407, Train loss: 0.07956193111560962\n",
      "Epoch 8: Train err: 0.7777777777777778, Train loss: 0.07866046163770887\n",
      "Epoch 9: Train err: 0.8518518518518519, Train loss: 0.07781130296212656\n",
      "Epoch 10: Train err: 0.7037037037037037, Train loss: 0.07680047882927789\n",
      "Epoch 11: Train err: 0.6666666666666667, Train loss: 0.07546577630219636\n",
      "Epoch 12: Train err: 0.5555555555555556, Train loss: 0.07353507589410853\n",
      "Epoch 13: Train err: 0.5555555555555556, Train loss: 0.07085085798192907\n",
      "Epoch 14: Train err: 0.5925925925925926, Train loss: 0.06766739598026981\n",
      "Epoch 15: Train err: 0.5555555555555556, Train loss: 0.0655437222233525\n",
      "Epoch 16: Train err: 0.4814814814814815, Train loss: 0.062205994570696796\n",
      "Epoch 17: Train err: 0.33333333333333337, Train loss: 0.0596772344024093\n",
      "Epoch 18: Train err: 0.37037037037037035, Train loss: 0.056299448013305664\n",
      "Epoch 19: Train err: 0.4444444444444444, Train loss: 0.05311519128304941\n",
      "Epoch 20: Train err: 0.37037037037037035, Train loss: 0.05090434021419949\n",
      "Epoch 21: Train err: 0.2962962962962963, Train loss: 0.046803160949989604\n",
      "Epoch 22: Train err: 0.2222222222222222, Train loss: 0.043621204517505785\n",
      "Epoch 23: Train err: 0.2592592592592593, Train loss: 0.04164321334273727\n",
      "Epoch 24: Train err: 0.18518518518518523, Train loss: 0.03773462330853498\n",
      "Epoch 25: Train err: 0.2222222222222222, Train loss: 0.035140516581358736\n",
      "Epoch 26: Train err: 0.18518518518518523, Train loss: 0.03256480782120316\n",
      "Epoch 27: Train err: 0.2222222222222222, Train loss: 0.031383644651483605\n",
      "Epoch 28: Train err: 0.2222222222222222, Train loss: 0.02844091256459554\n",
      "Epoch 29: Train err: 0.18518518518518523, Train loss: 0.025414656709741662\n",
      "Epoch 30: Train err: 0.14814814814814814, Train loss: 0.023663609116165725\n",
      "Epoch 31: Train err: 0.11111111111111116, Train loss: 0.02012061631238019\n",
      "Epoch 32: Train err: 0.11111111111111116, Train loss: 0.01820366029386167\n",
      "Epoch 33: Train err: 0.11111111111111116, Train loss: 0.01636944324881942\n",
      "Epoch 34: Train err: 0.03703703703703709, Train loss: 0.015565947250083641\n",
      "Epoch 35: Train err: 0.0, Train loss: 0.01374374164475335\n",
      "Epoch 36: Train err: 0.0, Train loss: 0.010555505752563477\n",
      "Epoch 37: Train err: 0.0, Train loss: 0.010504143105612861\n",
      "Epoch 38: Train err: 0.03703703703703709, Train loss: 0.009117884768380059\n",
      "Epoch 39: Train err: 0.0, Train loss: 0.007055177180855362\n",
      "Epoch 40: Train err: 0.0, Train loss: 0.006034278759249934\n",
      "Epoch 41: Train err: 0.0, Train loss: 0.004833405768429792\n",
      "Epoch 42: Train err: 0.0, Train loss: 0.004386034000802923\n",
      "Epoch 43: Train err: 0.0, Train loss: 0.0032277819183137682\n",
      "Epoch 44: Train err: 0.0, Train loss: 0.0027726687214992664\n",
      "Epoch 45: Train err: 0.0, Train loss: 0.0021470949329711773\n",
      "Epoch 46: Train err: 0.0, Train loss: 0.002016594426499473\n",
      "Epoch 47: Train err: 0.0, Train loss: 0.0014695628649658626\n",
      "Epoch 48: Train err: 0.0, Train loss: 0.0011011434512005912\n",
      "Epoch 49: Train err: 0.0, Train loss: 0.0009641470042643723\n",
      "Epoch 50: Train err: 0.0, Train loss: 0.0008109507185441476\n",
      "Epoch 51: Train err: 0.0, Train loss: 0.0007380278850043262\n",
      "Epoch 52: Train err: 0.0, Train loss: 0.0007138255017775076\n",
      "Epoch 53: Train err: 0.0, Train loss: 0.0005829408764839172\n",
      "Epoch 54: Train err: 0.0, Train loss: 0.00043915681265018603\n",
      "Epoch 55: Train err: 0.0, Train loss: 0.00038200033897603\n",
      "Epoch 56: Train err: 0.0, Train loss: 0.00035823005493040437\n",
      "Epoch 57: Train err: 0.0, Train loss: 0.00030987433813236376\n",
      "Epoch 58: Train err: 0.0, Train loss: 0.00025715741018454236\n",
      "Epoch 59: Train err: 0.0, Train loss: 0.000227343929172666\n",
      "Epoch 60: Train err: 0.0, Train loss: 0.00021448595173380994\n",
      "Epoch 61: Train err: 0.0, Train loss: 0.00020024480505122078\n",
      "Epoch 62: Train err: 0.0, Train loss: 0.00017337073330526\n",
      "Epoch 63: Train err: 0.0, Train loss: 0.0001422456224207525\n",
      "Epoch 64: Train err: 0.0, Train loss: 0.00011784638519640323\n",
      "Epoch 65: Train err: 0.0, Train loss: 0.00010231525326768558\n",
      "Epoch 66: Train err: 0.0, Train loss: 9.285577538388747e-05\n",
      "Epoch 67: Train err: 0.0, Train loss: 8.562249476435008e-05\n",
      "Epoch 68: Train err: 0.0, Train loss: 7.792788178280548e-05\n",
      "Epoch 69: Train err: 0.0, Train loss: 6.986759102868814e-05\n",
      "Epoch 70: Train err: 0.0, Train loss: 6.2767851718322e-05\n",
      "Epoch 71: Train err: 0.0, Train loss: 5.772229525502081e-05\n",
      "Epoch 72: Train err: 0.0, Train loss: 5.478241601613937e-05\n",
      "Epoch 73: Train err: 0.0, Train loss: 5.3170305262837144e-05\n",
      "Epoch 74: Train err: 0.0, Train loss: 5.180181728469001e-05\n",
      "Epoch 75: Train err: 0.0, Train loss: 4.984021480022757e-05\n",
      "Epoch 76: Train err: 0.0, Train loss: 4.704188365765192e-05\n",
      "Epoch 77: Train err: 0.0, Train loss: 4.377654598404964e-05\n",
      "Epoch 78: Train err: 0.0, Train loss: 4.060298238915426e-05\n",
      "Epoch 79: Train err: 0.0, Train loss: 3.796170413908031e-05\n",
      "Epoch 80: Train err: 0.0, Train loss: 3.602286300587433e-05\n",
      "Epoch 81: Train err: 0.0, Train loss: 3.471881953171558e-05\n",
      "Epoch 82: Train err: 0.0, Train loss: 3.3836697521447034e-05\n",
      "Epoch 83: Train err: 0.0, Train loss: 3.313248614884085e-05\n",
      "Epoch 84: Train err: 0.0, Train loss: 3.241331109570133e-05\n",
      "Epoch 85: Train err: 0.0, Train loss: 3.1585567975761716e-05\n",
      "Epoch 86: Train err: 0.0, Train loss: 3.0663793613375335e-05\n",
      "Epoch 87: Train err: 0.0, Train loss: 2.9726477805525064e-05\n",
      "Epoch 88: Train err: 0.0, Train loss: 2.8859153476164296e-05\n",
      "Epoch 89: Train err: 0.0, Train loss: 2.812000026029569e-05\n",
      "Epoch 90: Train err: 0.0, Train loss: 2.7512864175218123e-05\n",
      "Epoch 91: Train err: 0.0, Train loss: 2.7009454141888353e-05\n",
      "Epoch 92: Train err: 0.0, Train loss: 2.6565957038352888e-05\n",
      "Epoch 93: Train err: 0.0, Train loss: 2.6130529241291463e-05\n",
      "Epoch 94: Train err: 0.0, Train loss: 2.5670889213129327e-05\n",
      "Epoch 95: Train err: 0.0, Train loss: 2.5178491206908667e-05\n",
      "Epoch 96: Train err: 0.0, Train loss: 2.4667136905783855e-05\n",
      "Epoch 97: Train err: 0.0, Train loss: 2.416711154014424e-05\n",
      "Epoch 98: Train err: 0.0, Train loss: 2.3704949180009187e-05\n",
      "Epoch 99: Train err: 0.0, Train loss: 2.329792240979495e-05\n",
      "Epoch 100: Train err: 0.0, Train loss: 2.295025451867669e-05\n",
      "Epoch 101: Train err: 0.0, Train loss: 2.265378349909076e-05\n",
      "Epoch 102: Train err: 0.0, Train loss: 2.2390236457188923e-05\n",
      "Epoch 103: Train err: 0.0, Train loss: 2.2141827718803176e-05\n",
      "Epoch 104: Train err: 0.0, Train loss: 2.189500998981573e-05\n",
      "Epoch 105: Train err: 0.0, Train loss: 2.1640332070765674e-05\n",
      "Epoch 106: Train err: 0.0, Train loss: 2.1378604557227204e-05\n",
      "Epoch 107: Train err: 0.0, Train loss: 2.1114740606949284e-05\n",
      "Epoch 108: Train err: 0.0, Train loss: 2.085624254067187e-05\n",
      "Epoch 109: Train err: 0.0, Train loss: 2.061063639336714e-05\n",
      "Epoch 110: Train err: 0.0, Train loss: 2.0378741383966473e-05\n",
      "Epoch 111: Train err: 0.0, Train loss: 2.016334285683654e-05\n",
      "Epoch 112: Train err: 0.0, Train loss: 1.9958404461956685e-05\n",
      "Epoch 113: Train err: 0.0, Train loss: 1.9759687819276695e-05\n",
      "Epoch 114: Train err: 0.0, Train loss: 1.9563118392532623e-05\n",
      "Epoch 115: Train err: 0.0, Train loss: 1.9368213273722818e-05\n",
      "Epoch 116: Train err: 0.0, Train loss: 1.9173325401627357e-05\n",
      "Epoch 117: Train err: 0.0, Train loss: 1.8978133556191568e-05\n",
      "Epoch 118: Train err: 0.0, Train loss: 1.8788999619169368e-05\n",
      "Epoch 119: Train err: 0.0, Train loss: 1.8604604216913383e-05\n",
      "Epoch 120: Train err: 0.0, Train loss: 1.842871144482935e-05\n",
      "Epoch 121: Train err: 0.0, Train loss: 1.8262608338975246e-05\n",
      "Epoch 122: Train err: 0.0, Train loss: 1.8102707582767363e-05\n",
      "Epoch 123: Train err: 0.0, Train loss: 1.7949820849699556e-05\n",
      "Epoch 124: Train err: 0.0, Train loss: 1.7802803389107186e-05\n",
      "Epoch 125: Train err: 0.0, Train loss: 1.7658222026916013e-05\n",
      "Epoch 126: Train err: 0.0, Train loss: 1.7513959728940217e-05\n",
      "Epoch 127: Train err: 0.0, Train loss: 1.737393473309499e-05\n",
      "Epoch 128: Train err: 0.0, Train loss: 1.723471709906503e-05\n",
      "Epoch 129: Train err: 0.0, Train loss: 1.7096473904395544e-05\n",
      "Epoch 130: Train err: 0.0, Train loss: 1.696230847974894e-05\n",
      "Epoch 131: Train err: 0.0, Train loss: 1.6830429322672665e-05\n",
      "Epoch 132: Train err: 0.0, Train loss: 1.6702143949697967e-05\n",
      "Epoch 133: Train err: 0.0, Train loss: 1.6576961907385675e-05\n",
      "Epoch 134: Train err: 0.0, Train loss: 1.6454557664002533e-05\n",
      "Epoch 135: Train err: 0.0, Train loss: 1.6333634482213745e-05\n",
      "Epoch 136: Train err: 0.0, Train loss: 1.621303791007786e-05\n",
      "Epoch 137: Train err: 0.0, Train loss: 1.6095876667855515e-05\n",
      "Epoch 138: Train err: 0.0, Train loss: 1.598035709725486e-05\n",
      "Epoch 139: Train err: 0.0, Train loss: 1.5864680150385807e-05\n",
      "Epoch 140: Train err: 0.0, Train loss: 1.575128623732814e-05\n",
      "Epoch 141: Train err: 0.0, Train loss: 1.563985952762542e-05\n",
      "Epoch 142: Train err: 0.0, Train loss: 1.552973925653431e-05\n",
      "Epoch 143: Train err: 0.0, Train loss: 1.5422064785121216e-05\n",
      "Epoch 144: Train err: 0.0, Train loss: 1.531472123503961e-05\n",
      "Epoch 145: Train err: 0.0, Train loss: 1.5209823484636016e-05\n",
      "Epoch 146: Train err: 0.0, Train loss: 1.5105249110126385e-05\n",
      "Epoch 147: Train err: 0.0, Train loss: 1.5003449300786963e-05\n",
      "Epoch 148: Train err: 0.0, Train loss: 1.4901485647661266e-05\n",
      "Epoch 149: Train err: 0.0, Train loss: 1.4801315652827421e-05\n",
      "Epoch 150: Train err: 0.0, Train loss: 1.4701471189726834e-05\n",
      "Epoch 151: Train err: 0.0, Train loss: 1.4602768243531938e-05\n",
      "Epoch 152: Train err: 0.0, Train loss: 1.4506184487362151e-05\n",
      "Epoch 153: Train err: 0.0, Train loss: 1.4410911481482563e-05\n",
      "Epoch 154: Train err: 0.0, Train loss: 1.4315799085630311e-05\n",
      "Epoch 155: Train err: 0.0, Train loss: 1.4221502674950494e-05\n",
      "Epoch 156: Train err: 0.0, Train loss: 1.412900531216076e-05\n",
      "Epoch 157: Train err: 0.0, Train loss: 1.403699732489056e-05\n",
      "Epoch 158: Train err: 0.0, Train loss: 1.3946791619269385e-05\n",
      "Epoch 159: Train err: 0.0, Train loss: 1.385674760159519e-05\n",
      "Epoch 160: Train err: 0.0, Train loss: 1.3768664319758062e-05\n",
      "Epoch 161: Train err: 0.0, Train loss: 1.3679927818615127e-05\n",
      "Epoch 162: Train err: 0.0, Train loss: 1.3592662677789727e-05\n",
      "Epoch 163: Train err: 0.0, Train loss: 1.3505072005231071e-05\n",
      "Epoch 164: Train err: 0.0, Train loss: 1.342091235090737e-05\n",
      "Epoch 165: Train err: 0.0, Train loss: 1.3335447335891701e-05\n",
      "Epoch 166: Train err: 0.0, Train loss: 1.3251286603648353e-05\n",
      "Epoch 167: Train err: 0.0, Train loss: 1.3167287559351987e-05\n",
      "Epoch 168: Train err: 0.0, Train loss: 1.3084762031212449e-05\n",
      "Epoch 169: Train err: 0.0, Train loss: 1.3002886488619777e-05\n",
      "Epoch 170: Train err: 0.0, Train loss: 1.2922156774611384e-05\n",
      "Epoch 171: Train err: 0.0, Train loss: 1.284126213889707e-05\n",
      "Epoch 172: Train err: 0.0, Train loss: 1.2761998395607978e-05\n",
      "Epoch 173: Train err: 0.0, Train loss: 1.268224743263865e-05\n",
      "Epoch 174: Train err: 0.0, Train loss: 1.2603963518308268e-05\n",
      "Epoch 175: Train err: 0.0, Train loss: 1.2525845603603455e-05\n",
      "Epoch 176: Train err: 0.0, Train loss: 1.2448867049965042e-05\n",
      "Epoch 177: Train err: 0.0, Train loss: 1.237254602731102e-05\n",
      "Epoch 178: Train err: 0.0, Train loss: 1.2296384536764688e-05\n",
      "Epoch 179: Train err: 0.0, Train loss: 1.2221372108561573e-05\n",
      "Epoch 180: Train err: 0.0, Train loss: 1.2146846900038696e-05\n",
      "Epoch 181: Train err: 0.0, Train loss: 1.2072646145329432e-05\n",
      "Epoch 182: Train err: 0.0, Train loss: 1.199959229712409e-05\n",
      "Epoch 183: Train err: 0.0, Train loss: 1.1927354434091183e-05\n",
      "Epoch 184: Train err: 0.0, Train loss: 1.1854627195538746e-05\n",
      "Epoch 185: Train err: 0.0, Train loss: 1.1783206395597921e-05\n",
      "Epoch 186: Train err: 0.0, Train loss: 1.1712929268402081e-05\n",
      "Epoch 187: Train err: 0.0, Train loss: 1.1641835078114161e-05\n",
      "Epoch 188: Train err: 0.0, Train loss: 1.15720484043575e-05\n",
      "Epoch 189: Train err: 0.0, Train loss: 1.1503568169212451e-05\n",
      "Epoch 190: Train err: 0.0, Train loss: 1.1435907152998778e-05\n",
      "Epoch 191: Train err: 0.0, Train loss: 1.1368081215079184e-05\n",
      "Epoch 192: Train err: 0.0, Train loss: 1.1300254199239942e-05\n",
      "Epoch 193: Train err: 0.0, Train loss: 1.123324209065349e-05\n",
      "Epoch 194: Train err: 0.0, Train loss: 1.116754288819653e-05\n",
      "Epoch 195: Train err: 0.0, Train loss: 1.1101676608194356e-05\n",
      "Epoch 196: Train err: 0.0, Train loss: 1.1037281688509716e-05\n",
      "Epoch 197: Train err: 0.0, Train loss: 1.0972885690905429e-05\n",
      "Epoch 198: Train err: 0.0, Train loss: 1.090849077122079e-05\n",
      "Epoch 199: Train err: 0.0, Train loss: 1.0846056587373218e-05\n",
      "Epoch 200: Train err: 0.0, Train loss: 1.0783621325605998e-05\n"
     ]
    }
   ],
   "source": [
    "#train_loader2, val_loader2, test_loader2 = get_data_loader(batch_size=20)\n",
    "\n",
    "torch.manual_seed(3)\n",
    "torch.cuda.empty_cache()\n",
    "\n",
    "train_loader2=torch.utils.data.DataLoader(dataset2, batch_size=54, num_workers=0)\n",
    "HandGestureNet=HandGestureClassifer()\n",
    "\n",
    "use_cuda = True\n",
    "\n",
    "if use_cuda and torch.cuda.is_available():\n",
    "  HandGestureNet.cuda()\n",
    "  print('CUDA is available!  Training on GPU ...')\n",
    "else:\n",
    "  print('CUDA is not available.  Training on CPU ...')\n",
    "\n",
    "optimizer = optim.Adam(HandGestureNet.parameters(), lr =0.001) #note i changed to Adam because it takes into account several things such as adaptive learning rate, momentum... and this will be helpful to prove the overfitting.\n",
    "criterion = nn.CrossEntropyLoss()\n",
    "\n",
    "train_err = np.zeros(200)\n",
    "train_loss = np.zeros(200)\n",
    "val_err = np.zeros(200)\n",
    "val_loss = np.zeros(200)\n",
    "\n",
    "\n",
    "for epoch in range(200):\n",
    "  total_train_loss = 0.0\n",
    "  total_train_err = 0.0\n",
    "  total_train_accuracy = 0.0\n",
    "  total_epoch = 0\n",
    "  for images,labels in iter(train_loader2):\n",
    "    if use_cuda and torch.cuda.is_available():\n",
    "      images = images.cuda()\n",
    "      labels = labels.cuda()\n",
    "    outputs = HandGestureNet(images)\n",
    "    loss = criterion(outputs, labels)\n",
    "    loss.backward()\n",
    "    optimizer.step()\n",
    "    optimizer.zero_grad()\n",
    "    corr=(torch.argmax(outputs, axis=1) == labels)\n",
    "    total_train_accuracy += int(corr.sum())\n",
    "    total_train_loss += loss.item()\n",
    "    total_epoch+=len(labels)\n",
    "  train_err[epoch] = 1-(float(total_train_accuracy) / total_epoch)\n",
    "  train_loss[epoch] = float(total_train_loss) / (27)\n",
    "\n",
    "  print((\"Epoch {}: Train err: {}, Train loss: {}\").format(epoch + 1,train_err[epoch],train_loss[epoch]))"
   ]
  },
  {
   "cell_type": "markdown",
   "metadata": {
    "id": "whGfWBLHwim4"
   },
   "source": [
    "The model is capable of overfitting since the error for the training is 0 and the loss is decreasing and is very small."
   ]
  },
  {
   "cell_type": "markdown",
   "metadata": {
    "id": "nvDLw-Vz6eVS"
   },
   "source": [
    "### Hyperparameter Search"
   ]
  },
  {
   "cell_type": "markdown",
   "metadata": {
    "id": "Jk81Z-2MAC56"
   },
   "source": [
    "There is a list of hyperparameters we could choose from to tune our model:\n",
    "\n",
    "- Momentum\n",
    "- Batch size\n",
    "- Introducing dropout\n",
    "- Learning rate\n",
    "- Number of epochs\n",
    "- Number of hidden units (related to the model architecture)\n",
    "...\n",
    "\n",
    "However, for this case, I think the hyperparameters that are most worth tuning are 1) the number of convolutional and pooling layers, 2) the learning rate, 3) number of epochs."
   ]
  },
  {
   "cell_type": "markdown",
   "metadata": {
    "id": "wPrOw3xCf2gc"
   },
   "source": [
    "**HYPERPARAMETER SETTINGS 1: decrease batch size, decrease learning rate (to decrease our learning rate we would need to increase the batch size)**"
   ]
  },
  {
   "cell_type": "code",
   "execution_count": null,
   "metadata": {
    "colab": {
     "base_uri": "https://localhost:8080/"
    },
    "id": "UkvdR-cB6nzm",
    "outputId": "de4a40d3-2a30-4fd9-a7e7-98e4b9df8061"
   },
   "outputs": [
    {
     "name": "stdout",
     "output_type": "stream",
     "text": [
      "CUDA is available!  Training on GPU ...\n",
      "Epoch 1: Train err: 0.8708162066940692, Train loss: 2.198724066769635 |Validation err: 0.9395604395604396, Validation loss: 2.2115725676218667\n",
      "Epoch 2: Train err: 0.8602466236054023, Train loss: 2.1789257526397705 |Validation err: 0.8928571428571429, Validation loss: 2.1853817105293274\n",
      "Epoch 3: Train err: 0.7991779213153258, Train loss: 2.125986094828005 |Validation err: 0.7417582417582418, Validation loss: 2.0251399278640747\n",
      "Epoch 4: Train err: 0.6746917204932472, Train loss: 1.8999937551992911 |Validation err: 0.6016483516483517, Validation loss: 1.6418369213740032\n",
      "Epoch 5: Train err: 0.5960070463887257, Train loss: 1.634865442911784 |Validation err: 0.5576923076923077, Validation loss: 1.4360025823116302\n",
      "Epoch 6: Train err: 0.5096887844979447, Train loss: 1.4272616019955389 |Validation err: 0.5219780219780219, Validation loss: 1.3838746945063274\n",
      "Epoch 7: Train err: 0.43687610099823837, Train loss: 1.2679614270174946 |Validation err: 0.42307692307692313, Validation loss: 1.2917532920837402\n",
      "Epoch 8: Train err: 0.3945977686435702, Train loss: 1.1829456035737638 |Validation err: 0.4285714285714286, Validation loss: 1.1258277942736943\n",
      "Epoch 9: Train err: 0.40869054609512623, Train loss: 1.1882546952477209 |Validation err: 0.42307692307692313, Validation loss: 1.1754003763198853\n",
      "Epoch 10: Train err: 0.37169700528479155, Train loss: 1.097289839276561 |Validation err: 0.3873626373626373, Validation loss: 1.1117799232403438\n",
      "Epoch 11: Train err: 0.36347621843805045, Train loss: 1.0242883364359539 |Validation err: 0.33791208791208793, Validation loss: 1.0347527513901393\n",
      "Epoch 12: Train err: 0.37052260716382857, Train loss: 1.0848279617450856 |Validation err: 0.3214285714285714, Validation loss: 0.9867819199959437\n",
      "Epoch 13: Train err: 0.3540810334703465, Train loss: 1.0096425000164244 |Validation err: 0.36813186813186816, Validation loss: 1.048143168290456\n",
      "Epoch 14: Train err: 0.3294186729301233, Train loss: 0.9643107912054768 |Validation err: 0.38186813186813184, Validation loss: 1.1342744181553523\n",
      "Epoch 15: Train err: 0.34409864944216084, Train loss: 0.9841611186663309 |Validation err: 0.3791208791208791, Validation loss: 0.9997628033161163\n",
      "Epoch 16: Train err: 0.3364650616559014, Train loss: 0.974833227969982 |Validation err: 0.35989010989010994, Validation loss: 1.0014617492755253\n",
      "Epoch 17: Train err: 0.3211978860833823, Train loss: 0.9347801042927636 |Validation err: 0.3873626373626373, Validation loss: 1.0581256449222565\n",
      "Epoch 18: Train err: 0.3200234879624193, Train loss: 0.9100642756179527 |Validation err: 0.31868131868131866, Validation loss: 0.9144494086503983\n",
      "Epoch 19: Train err: 0.3282442748091603, Train loss: 0.9297625290022956 |Validation err: 0.32417582417582413, Validation loss: 0.9373561392227808\n",
      "Epoch 20: Train err: 0.3129770992366412, Train loss: 0.9089573699015158 |Validation err: 0.4010989010989011, Validation loss: 1.028550346692403\n",
      "Epoch 21: Train err: 0.3170874926600118, Train loss: 0.9026790625519223 |Validation err: 0.31043956043956045, Validation loss: 0.880787675579389\n",
      "Epoch 22: Train err: 0.2982971227246036, Train loss: 0.851840043509448 |Validation err: 0.32692307692307687, Validation loss: 0.8942188968261083\n",
      "Epoch 23: Train err: 0.31121550205519666, Train loss: 0.8792915598109916 |Validation err: 0.3571428571428571, Validation loss: 1.063737506667773\n",
      "Epoch 24: Train err: 0.30710510863182616, Train loss: 0.8657741833616186 |Validation err: 0.33241758241758246, Validation loss: 0.9300549228986105\n",
      "Epoch 25: Train err: 0.28361714621256606, Train loss: 0.8202484056905464 |Validation err: 0.3131868131868132, Validation loss: 0.9455691874027252\n",
      "Epoch 26: Train err: 0.28772753963593656, Train loss: 0.8373421132564545 |Validation err: 0.31043956043956045, Validation loss: 0.9317779590686163\n",
      "Epoch 27: Train err: 0.28479154433352905, Train loss: 0.8382590904279992 |Validation err: 0.3159340659340659, Validation loss: 0.9206078797578812\n",
      "Epoch 28: Train err: 0.28596594245449203, Train loss: 0.8172853351743133 |Validation err: 0.31868131868131866, Validation loss: 0.9435179034868876\n",
      "Epoch 29: Train err: 0.29594832648267766, Train loss: 0.8334892105173182 |Validation err: 0.32417582417582413, Validation loss: 0.859914630651474\n",
      "Epoch 30: Train err: 0.2912507339988256, Train loss: 0.8401907373357702 |Validation err: 0.3076923076923077, Validation loss: 0.9270227551460266\n",
      "Finished Training\n",
      "Total time elapsed: 219.79 seconds\n"
     ]
    }
   ],
   "source": [
    "HandGestureNet=HandGestureClassifer()\n",
    "use_cuda = True\n",
    "\n",
    "if use_cuda and torch.cuda.is_available():\n",
    "  HandGestureNet.cuda()\n",
    "  print('CUDA is available!  Training on GPU ...')\n",
    "else:\n",
    "  print('CUDA is not available.  Training on CPU ...')\n",
    "train_net(HandGestureNet, batch_size=32, learning_rate=0.001, num_epochs=30)"
   ]
  },
  {
   "cell_type": "code",
   "execution_count": null,
   "metadata": {
    "colab": {
     "base_uri": "https://localhost:8080/",
     "height": 573
    },
    "id": "hwfExptPD9oz",
    "outputId": "56fc8f0c-954d-4c5c-c243-41f9cf27e8ab"
   },
   "outputs": [
    {
     "data": {
      "image/png": "[encoded data removed]",
      "text/plain": [
       "<Figure size 432x288 with 1 Axes>"
      ]
     },
     "metadata": {
      "needs_background": "light"
     },
     "output_type": "display_data"
    },
    {
     "data": {
      "image/png": "[encoded data removed]",
      "text/plain": [
       "<Figure size 432x288 with 1 Axes>"
      ]
     },
     "metadata": {
      "needs_background": "light"
     },
     "output_type": "display_data"
    }
   ],
   "source": [
    "model_path2 = get_model_name(\"HandGesture\", batch_size=32, learning_rate=0.001, epoch=29)\n",
    "plot_training_curve(model_path2)"
   ]
  },
  {
   "cell_type": "markdown",
   "metadata": {
    "id": "tDSx9fUYFME9"
   },
   "source": [
    "The validation curves are very spiky, which shows that these hyperparameter settings did not improve the model's prediction."
   ]
  },
  {
   "cell_type": "markdown",
   "metadata": {
    "id": "MFvy765jhN3T"
   },
   "source": [
    "**HYPERPARAMETER SETTINGS 2: decrease learning rate, increase number of epochs**"
   ]
  },
  {
   "cell_type": "code",
   "execution_count": null,
   "metadata": {
    "colab": {
     "base_uri": "https://localhost:8080/"
    },
    "id": "-egSk8aYnxPq",
    "outputId": "dc2b1ac7-2959-46c3-8e9b-7d62a0128b8f"
   },
   "outputs": [
    {
     "name": "stdout",
     "output_type": "stream",
     "text": [
      "CUDA is available!  Training on GPU ...\n",
      "Epoch 1: Train err: 0.8937169700528479, Train loss: 2.2028837027373136 |Validation err: 0.8983516483516484, Validation loss: 2.2048424084981284\n",
      "Epoch 2: Train err: 0.8849089841456254, Train loss: 2.197333918677436 |Validation err: 0.8983516483516484, Validation loss: 2.1981746753056846\n",
      "Epoch 3: Train err: 0.8849089841456254, Train loss: 2.1918502030549227 |Validation err: 0.8983516483516484, Validation loss: 2.19271457195282\n",
      "Epoch 4: Train err: 0.8737522019964767, Train loss: 2.1844668211760343 |Validation err: 0.8956043956043956, Validation loss: 2.1879154046376548\n",
      "Epoch 5: Train err: 0.8549618320610687, Train loss: 2.16910900010003 |Validation err: 0.8434065934065934, Validation loss: 2.153619647026062\n",
      "Epoch 6: Train err: 0.822665883734586, Train loss: 2.1326923811877214 |Validation err: 0.7802197802197802, Validation loss: 2.0691258907318115\n",
      "Epoch 7: Train err: 0.7075748678802114, Train loss: 2.003318596769262 |Validation err: 0.6126373626373627, Validation loss: 1.8380497296651204\n",
      "Epoch 8: Train err: 0.6465061655901351, Train loss: 1.788045843442281 |Validation err: 0.6263736263736264, Validation loss: 1.689912776152293\n",
      "Epoch 9: Train err: 0.6529653552554315, Train loss: 1.8069322506586711 |Validation err: 0.5851648351648351, Validation loss: 1.6845707098642986\n",
      "Epoch 10: Train err: 0.6100998238402818, Train loss: 1.688364373313056 |Validation err: 0.6538461538461539, Validation loss: 1.7271835009257\n",
      "Epoch 11: Train err: 0.5830886670581328, Train loss: 1.5608116697382044 |Validation err: 0.49725274725274726, Validation loss: 1.362690528233846\n",
      "Epoch 12: Train err: 0.49853200234879624, Train loss: 1.3661727861121848 |Validation err: 0.4917582417582418, Validation loss: 1.352068265279134\n",
      "Epoch 13: Train err: 0.4762184380504991, Train loss: 1.3212341798676386 |Validation err: 0.4340659340659341, Validation loss: 1.299506664276123\n",
      "Epoch 14: Train err: 0.42806811509101583, Train loss: 1.2300342939518116 |Validation err: 0.47527472527472525, Validation loss: 1.22969388961792\n",
      "Epoch 15: Train err: 0.4110393423370523, Train loss: 1.1733620387536507 |Validation err: 0.4010989010989011, Validation loss: 1.1832798918088276\n",
      "Epoch 16: Train err: 0.3775689958896066, Train loss: 1.0998194637121979 |Validation err: 0.3928571428571429, Validation loss: 1.1186637977759044\n",
      "Epoch 17: Train err: 0.38402818555490315, Train loss: 1.1158187499752752 |Validation err: 0.42582417582417587, Validation loss: 1.214686671892802\n",
      "Epoch 18: Train err: 0.3781561949500881, Train loss: 1.075781519766207 |Validation err: 0.3791208791208791, Validation loss: 1.1410052279631298\n",
      "Epoch 19: Train err: 0.35819142689371697, Train loss: 1.0418633001822013 |Validation err: 0.3873626373626373, Validation loss: 1.1870707273483276\n",
      "Epoch 20: Train err: 0.35819142689371697, Train loss: 1.023922065893809 |Validation err: 0.35439560439560436, Validation loss: 1.1117167870203655\n",
      "Epoch 21: Train err: 0.33176746917204936, Train loss: 1.000783008557779 |Validation err: 0.3516483516483516, Validation loss: 1.0492405891418457\n",
      "Epoch 22: Train err: 0.32765707574867875, Train loss: 0.9858123748390762 |Validation err: 0.3296703296703297, Validation loss: 0.9997395773728689\n",
      "Epoch 23: Train err: 0.3300058719906048, Train loss: 0.9965109714755306 |Validation err: 0.40384615384615385, Validation loss: 1.1302923758824666\n",
      "Epoch 24: Train err: 0.34586024662360537, Train loss: 1.0351871163756758 |Validation err: 0.3571428571428571, Validation loss: 1.0761551360289257\n",
      "Epoch 25: Train err: 0.3294186729301233, Train loss: 0.960270552723496 |Validation err: 0.3296703296703297, Validation loss: 1.023737221956253\n",
      "Epoch 26: Train err: 0.3141514973576043, Train loss: 0.924275694070039 |Validation err: 0.35439560439560436, Validation loss: 1.031510243813197\n",
      "Epoch 27: Train err: 0.3159130945390487, Train loss: 0.9022974151152151 |Validation err: 0.33241758241758246, Validation loss: 1.0065203309059143\n",
      "Epoch 28: Train err: 0.29418672930123313, Train loss: 0.8723062740431892 |Validation err: 0.32417582417582413, Validation loss: 0.9862710038820902\n",
      "Epoch 29: Train err: 0.3076923076923077, Train loss: 0.8945931107909592 |Validation err: 0.34065934065934067, Validation loss: 0.9641391038894653\n",
      "Epoch 30: Train err: 0.30710510863182616, Train loss: 0.9012206859058804 |Validation err: 0.3489010989010989, Validation loss: 1.0274727642536163\n",
      "Epoch 31: Train err: 0.29888432178508517, Train loss: 0.9003990425003899 |Validation err: 0.3489010989010989, Validation loss: 0.994857649008433\n",
      "Epoch 32: Train err: 0.30123311802701114, Train loss: 0.8895190115328189 |Validation err: 0.32417582417582413, Validation loss: 0.9666016499201456\n",
      "Epoch 33: Train err: 0.2965355255431591, Train loss: 0.87652705333851 |Validation err: 0.3214285714285714, Validation loss: 1.0210207402706146\n",
      "Epoch 34: Train err: 0.2982971227246036, Train loss: 0.8767763486614933 |Validation err: 0.34065934065934067, Validation loss: 1.0252715249856312\n",
      "Epoch 35: Train err: 0.2912507339988256, Train loss: 0.8492236490602847 |Validation err: 0.3296703296703297, Validation loss: 0.9878007769584656\n",
      "Epoch 36: Train err: 0.2853787433940106, Train loss: 0.8412934409247504 |Validation err: 0.33241758241758246, Validation loss: 0.9894911646842957\n",
      "Epoch 37: Train err: 0.271873165002936, Train loss: 0.8112914981665434 |Validation err: 0.3076923076923077, Validation loss: 0.9204990367094675\n",
      "Epoch 38: Train err: 0.26717557251908397, Train loss: 0.8150741877379241 |Validation err: 0.3434065934065934, Validation loss: 1.0075491468111675\n",
      "Epoch 39: Train err: 0.27774515560775104, Train loss: 0.8116955271473637 |Validation err: 0.2994505494505495, Validation loss: 0.9953605731328329\n",
      "Epoch 40: Train err: 0.26541397533763944, Train loss: 0.8046923025890633 |Validation err: 0.3076923076923077, Validation loss: 0.9583678444226583\n",
      "Epoch 41: Train err: 0.2830299471520845, Train loss: 0.8063272988354718 |Validation err: 0.3131868131868132, Validation loss: 0.9445415337880453\n",
      "Epoch 42: Train err: 0.2842043452730476, Train loss: 0.8242548858677899 |Validation err: 0.30219780219780223, Validation loss: 0.9420772592226664\n",
      "Epoch 43: Train err: 0.27069876688197303, Train loss: 0.8046728847203432 |Validation err: 0.3159340659340659, Validation loss: 0.9008862773577372\n",
      "Epoch 44: Train err: 0.28890193775689954, Train loss: 0.8106572385187503 |Validation err: 0.29670329670329665, Validation loss: 0.9270830452442169\n",
      "Epoch 45: Train err: 0.25836758661186143, Train loss: 0.7510739664236704 |Validation err: 0.3489010989010989, Validation loss: 1.0311696231365204\n",
      "Epoch 46: Train err: 0.271873165002936, Train loss: 0.8040846166787324 |Validation err: 0.28846153846153844, Validation loss: 0.8836749394734701\n",
      "Epoch 47: Train err: 0.26423957721667646, Train loss: 0.7732195931452291 |Validation err: 0.29670329670329665, Validation loss: 0.9221041997273763\n",
      "Epoch 48: Train err: 0.25014679976512033, Train loss: 0.7184776443022268 |Validation err: 0.2912087912087912, Validation loss: 0.8953623871008555\n",
      "Epoch 49: Train err: 0.2554315913094539, Train loss: 0.7346365451812744 |Validation err: 0.29670329670329665, Validation loss: 0.9012550910313925\n",
      "Epoch 50: Train err: 0.24310041103934232, Train loss: 0.7096851269404093 |Validation err: 0.28296703296703296, Validation loss: 0.979465901851654\n",
      "Finished Training\n",
      "Total time elapsed: 358.55 seconds\n"
     ]
    }
   ],
   "source": [
    "HandGestureNet=HandGestureClassifer()\n",
    "use_cuda = True\n",
    "\n",
    "if use_cuda and torch.cuda.is_available():\n",
    "  HandGestureNet.cuda()\n",
    "  print('CUDA is available!  Training on GPU ...')\n",
    "else:\n",
    "  print('CUDA is not available.  Training on CPU ...')\n",
    "train_net(HandGestureNet, batch_size=64, learning_rate=0.001, num_epochs=50)"
   ]
  },
  {
   "cell_type": "code",
   "execution_count": null,
   "metadata": {
    "colab": {
     "base_uri": "https://localhost:8080/",
     "height": 573
    },
    "id": "3QWlbGSmaa5L",
    "outputId": "3928a26d-392f-43e9-e600-10888bbfa8bc"
   },
   "outputs": [
    {
     "data": {
      "image/png": "[encoded data removed]",
      "text/plain": [
       "<Figure size 432x288 with 1 Axes>"
      ]
     },
     "metadata": {
      "needs_background": "light"
     },
     "output_type": "display_data"
    },
    {
     "data": {
      "image/png": "[encoded data removed]",
      "text/plain": [
       "<Figure size 432x288 with 1 Axes>"
      ]
     },
     "metadata": {
      "needs_background": "light"
     },
     "output_type": "display_data"
    }
   ],
   "source": [
    "model_path3 = get_model_name(\"HandGesture\", batch_size=64, learning_rate=0.001, epoch=49)\n",
    "plot_training_curve(model_path3)"
   ]
  },
  {
   "cell_type": "markdown",
   "metadata": {
    "id": "M8NvjbhQGxb9"
   },
   "source": [
    "Notice that we are not overfitting anymore but the validation curve is still unstable."
   ]
  },
  {
   "cell_type": "markdown",
   "metadata": {
    "id": "KLGgm8WUipvT"
   },
   "source": [
    "**HYPERPARAMETER SETTINGS 3: new convolutional and pooling layers added to improve the learning of the features**\n"
   ]
  },
  {
   "cell_type": "code",
   "execution_count": null,
   "metadata": {
    "id": "b7VVuKi8anPK"
   },
   "outputs": [],
   "source": [
    "class HandGestureClassifer2(nn.Module):\n",
    "  def __init__(self):\n",
    "    super(HandGestureClassifer2, self).__init__()\n",
    "    self.name=\"HandGesture2\"\n",
    "    self.conv1 = nn.Conv2d(3, 5, 5) #in_channels, out_chanels, kernel_size\n",
    "    self.pool = nn.MaxPool2d(2, 2) #kernel_size, stride \n",
    "    self.conv2 = nn.Conv2d(5, 10, 5) #in_channels, out_chanels, kernel_size\n",
    "    self.conv3 = nn.Conv2d(10, 15, 5) #in_channels, out_chanels, kernel_size\n",
    "    self.fc1 = nn.Linear(15*24*24, 32)\n",
    "    self.fc2 = nn.Linear(32, 9)\n",
    "\n",
    "  def forward(self, x):\n",
    "    x = self.pool(F.relu(self.conv1(x)))\n",
    "    x = self.pool(F.relu(self.conv2(x)))\n",
    "    x = self.pool(F.relu(self.conv3(x)))\n",
    "    x = x.view(-1, 15*24*24)\n",
    "    x = F.relu(self.fc1(x))\n",
    "    x = self.fc2(x)\n",
    "    return x"
   ]
  },
  {
   "cell_type": "code",
   "execution_count": null,
   "metadata": {
    "colab": {
     "base_uri": "https://localhost:8080/"
    },
    "id": "-BrqCTtkbdVF",
    "outputId": "04a4b354-333a-4de0-cf9b-2b1e919a5d1e"
   },
   "outputs": [
    {
     "name": "stdout",
     "output_type": "stream",
     "text": [
      "CUDA is available!  Training on GPU ...\n",
      "Epoch 1: Train err: 0.8907809747504404, Train loss: 2.2000681029425726 |Validation err: 0.8873626373626373, Validation loss: 2.20007594426473\n",
      "Epoch 2: Train err: 0.8819729888432178, Train loss: 2.1973319671772145 |Validation err: 0.8846153846153846, Validation loss: 2.200363357861837\n",
      "Epoch 3: Train err: 0.8825601879036994, Train loss: 2.194995473932337 |Validation err: 0.8543956043956044, Validation loss: 2.1993149518966675\n",
      "Epoch 4: Train err: 0.8667058132706987, Train loss: 2.1751524165824607 |Validation err: 0.739010989010989, Validation loss: 2.126201868057251\n",
      "Epoch 5: Train err: 0.825014679976512, Train loss: 2.1484048984668873 |Validation err: 0.8928571428571429, Validation loss: 2.1962597767512\n",
      "Epoch 6: Train err: 0.7451556077510275, Train loss: 1.9920119886045102 |Validation err: 0.5879120879120879, Validation loss: 1.665441870689392\n",
      "Epoch 7: Train err: 0.5490311215502055, Train loss: 1.554371997162148 |Validation err: 0.510989010989011, Validation loss: 1.3909761706988018\n",
      "Epoch 8: Train err: 0.48209042865531415, Train loss: 1.3037020210866574 |Validation err: 0.4340659340659341, Validation loss: 1.1586879690488179\n",
      "Epoch 9: Train err: 0.4274809160305344, Train loss: 1.1744071819164135 |Validation err: 0.4642857142857143, Validation loss: 1.220080316066742\n",
      "Epoch 10: Train err: 0.3969465648854962, Train loss: 1.0805161087601274 |Validation err: 0.3983516483516484, Validation loss: 1.1880886554718018\n",
      "Epoch 11: Train err: 0.37110980622431, Train loss: 1.0018394810182076 |Validation err: 0.3516483516483516, Validation loss: 0.9772587319215139\n",
      "Epoch 12: Train err: 0.3405754550792719, Train loss: 0.973220705986023 |Validation err: 0.3296703296703297, Validation loss: 1.001268873612086\n",
      "Epoch 13: Train err: 0.3141514973576043, Train loss: 0.9096227795989426 |Validation err: 0.32692307692307687, Validation loss: 0.9496380885442098\n",
      "Epoch 14: Train err: 0.2965355255431591, Train loss: 0.8252560021700682 |Validation err: 0.35439560439560436, Validation loss: 0.8910395602385203\n",
      "Epoch 15: Train err: 0.25719318849089845, Train loss: 0.7198365087862368 |Validation err: 0.2582417582417582, Validation loss: 0.8432949682076772\n",
      "Epoch 16: Train err: 0.2536699941280094, Train loss: 0.6941424519927414 |Validation err: 0.24725274725274726, Validation loss: 0.7802429695924123\n",
      "Epoch 17: Train err: 0.23194362889019382, Train loss: 0.6328746632293418 |Validation err: 0.2554945054945055, Validation loss: 0.761685828367869\n",
      "Epoch 18: Train err: 0.1726365237815619, Train loss: 0.4830286282080191 |Validation err: 0.2362637362637363, Validation loss: 0.7643633186817169\n",
      "Epoch 19: Train err: 0.11685261303581918, Train loss: 0.3298415022867697 |Validation err: 0.21703296703296704, Validation loss: 0.7820510665575663\n",
      "Epoch 20: Train err: 0.09277745155607753, Train loss: 0.2789858596192466 |Validation err: 0.23351648351648346, Validation loss: 0.891808032989502\n",
      "Epoch 21: Train err: 0.08749266001174394, Train loss: 0.25175445720001505 |Validation err: 0.22252747252747251, Validation loss: 0.7621519068876902\n",
      "Epoch 22: Train err: 0.07692307692307687, Train loss: 0.2145099143187205 |Validation err: 0.24450549450549453, Validation loss: 0.9567630887031555\n",
      "Epoch 23: Train err: 0.07105108631826185, Train loss: 0.21828863935338128 |Validation err: 0.2142857142857143, Validation loss: 1.0407871007919312\n",
      "Epoch 24: Train err: 0.06106870229007633, Train loss: 0.17730583057359414 |Validation err: 0.23901098901098905, Validation loss: 1.068077067534129\n",
      "Epoch 25: Train err: 0.04932472108044628, Train loss: 0.13779684859845373 |Validation err: 0.2142857142857143, Validation loss: 1.0932824512322743\n",
      "Epoch 26: Train err: 0.022900763358778664, Train loss: 0.08504281275802189 |Validation err: 0.23076923076923073, Validation loss: 1.5046708285808563\n",
      "Epoch 27: Train err: 0.0234879624192601, Train loss: 0.06698085136573624 |Validation err: 0.20879120879120883, Validation loss: 1.3531672358512878\n",
      "Epoch 28: Train err: 0.0234879624192601, Train loss: 0.06691867257985804 |Validation err: 0.22527472527472525, Validation loss: 1.7473021546999614\n",
      "Epoch 29: Train err: 0.054609512624779755, Train loss: 0.17033935759078572 |Validation err: 0.2417582417582418, Validation loss: 1.2694654365380604\n",
      "Epoch 30: Train err: 0.0317087492660012, Train loss: 0.11400214934514628 |Validation err: 0.21153846153846156, Validation loss: 1.2420593003431957\n",
      "Finished Training\n",
      "Total time elapsed: 222.92 seconds\n"
     ]
    }
   ],
   "source": [
    "HandGestureNet=HandGestureClassifer2()\n",
    "use_cuda = True\n",
    "\n",
    "if use_cuda and torch.cuda.is_available():\n",
    "  HandGestureNet.cuda()\n",
    "  print('CUDA is available!  Training on GPU ...')\n",
    "else:\n",
    "  print('CUDA is not available.  Training on CPU ...')\n",
    "train_net(HandGestureNet, batch_size=64, learning_rate=0.01, num_epochs=30)"
   ]
  },
  {
   "cell_type": "code",
   "execution_count": null,
   "metadata": {
    "colab": {
     "base_uri": "https://localhost:8080/",
     "height": 573
    },
    "id": "vymbPWnocZkT",
    "outputId": "7e91e94a-4f8e-4881-b072-9d060601062e"
   },
   "outputs": [
    {
     "data": {
      "image/png": "[encoded data removed]",
      "text/plain": [
       "<Figure size 432x288 with 1 Axes>"
      ]
     },
     "metadata": {
      "needs_background": "light"
     },
     "output_type": "display_data"
    },
    {
     "data": {
      "image/png": "[encoded data removed]",
      "text/plain": [
       "<Figure size 432x288 with 1 Axes>"
      ]
     },
     "metadata": {
      "needs_background": "light"
     },
     "output_type": "display_data"
    }
   ],
   "source": [
    "model_path4 = get_model_name(\"HandGesture2\", batch_size=64, learning_rate=0.01, epoch=29)\n",
    "plot_training_curve(model_path4)"
   ]
  },
  {
   "cell_type": "markdown",
   "metadata": {
    "id": "sB_aw7oXI_Rp"
   },
   "source": [
    "This model is good, but the loss of the validation starts increasing after 23 epochs, we could try decreasing the number of epochs to prevent overfitting."
   ]
  },
  {
   "cell_type": "markdown",
   "metadata": {
    "id": "SOIU94TflcKs"
   },
   "source": [
    "**HYPERPARAMETER SETTINGS 4: increasing learning rate, decreasing number of epochs**"
   ]
  },
  {
   "cell_type": "code",
   "execution_count": null,
   "metadata": {
    "colab": {
     "base_uri": "https://localhost:8080/"
    },
    "id": "6cqD_ZH-fCNg",
    "outputId": "beeffd63-e7f7-4a05-8296-ea8fb9b79b36"
   },
   "outputs": [
    {
     "name": "stdout",
     "output_type": "stream",
     "text": [
      "CUDA is available!  Training on GPU ...\n",
      "Epoch 1: Train err: 0.8901937756899589, Train loss: 2.2024675916742393 |Validation err: 0.8983516483516484, Validation loss: 2.193366010983785\n",
      "Epoch 2: Train err: 0.7721667645331768, Train loss: 2.06234081586202 |Validation err: 0.6758241758241759, Validation loss: 1.7680445710817974\n",
      "Epoch 3: Train err: 0.5161479741632413, Train loss: 1.4576033177199188 |Validation err: 0.4697802197802198, Validation loss: 1.213594138622284\n",
      "Epoch 4: Train err: 0.4180857310628303, Train loss: 1.2072442394715768 |Validation err: 0.478021978021978, Validation loss: 1.3369403680165608\n",
      "Epoch 5: Train err: 0.37991779213153254, Train loss: 1.0670651727252536 |Validation err: 0.39560439560439564, Validation loss: 1.105053832133611\n",
      "Epoch 6: Train err: 0.3529066353493835, Train loss: 0.9880242767157378 |Validation err: 0.37362637362637363, Validation loss: 1.035982261101405\n",
      "Epoch 7: Train err: 0.2842043452730476, Train loss: 0.8418884807162814 |Validation err: 0.34615384615384615, Validation loss: 0.9351733724276224\n",
      "Epoch 8: Train err: 0.2665883734586024, Train loss: 0.7771499311482465 |Validation err: 0.38186813186813184, Validation loss: 1.054632176955541\n",
      "Epoch 9: Train err: 0.24075161479741636, Train loss: 0.6779850666169767 |Validation err: 0.2802197802197802, Validation loss: 0.8571161230405172\n",
      "Epoch 10: Train err: 0.17615971814445097, Train loss: 0.5109392051343564 |Validation err: 0.2994505494505495, Validation loss: 0.8512573937575022\n",
      "Epoch 11: Train err: 0.12037580739870812, Train loss: 0.33372967497066214 |Validation err: 0.2637362637362637, Validation loss: 0.8362504144509634\n",
      "Epoch 12: Train err: 0.06106870229007633, Train loss: 0.18190125900286216 |Validation err: 0.271978021978022, Validation loss: 0.9280973573525747\n",
      "Epoch 13: Train err: 0.04169113329418672, Train loss: 0.1294138935153131 |Validation err: 0.28846153846153844, Validation loss: 1.2478417654832203\n",
      "Epoch 14: Train err: 0.05578391074574285, Train loss: 0.1654938129639184 |Validation err: 0.31043956043956045, Validation loss: 1.3103702267011006\n",
      "Epoch 15: Train err: 0.05167351732237224, Train loss: 0.14348912239074707 |Validation err: 0.271978021978022, Validation loss: 1.1153815388679504\n",
      "Epoch 16: Train err: 0.026423957721667612, Train loss: 0.10859345417055818 |Validation err: 0.2582417582417582, Validation loss: 1.2272734145323436\n",
      "Epoch 17: Train err: 0.024662360540223083, Train loss: 0.07487392515220025 |Validation err: 0.27472527472527475, Validation loss: 1.412343720595042\n",
      "Epoch 18: Train err: 0.03229594832648264, Train loss: 0.10392899700888882 |Validation err: 0.2637362637362637, Validation loss: 1.342957079410553\n",
      "Epoch 19: Train err: 0.02524955960070463, Train loss: 0.06473174301424513 |Validation err: 0.2582417582417582, Validation loss: 1.705884039402008\n",
      "Epoch 20: Train err: 0.00822078684674099, Train loss: 0.024368370046701143 |Validation err: 0.2802197802197802, Validation loss: 1.792273759841919\n",
      "Finished Training\n",
      "Total time elapsed: 140.62 seconds\n"
     ]
    }
   ],
   "source": [
    "HandGestureNet=HandGestureClassifer()\n",
    "use_cuda = True\n",
    "\n",
    "if use_cuda and torch.cuda.is_available():\n",
    "  HandGestureNet.cuda()\n",
    "  print('CUDA is available!  Training on GPU ...')\n",
    "else:\n",
    "  print('CUDA is not available.  Training on CPU ...')\n",
    "train_net(HandGestureNet, batch_size=64, learning_rate=0.02, num_epochs=20)"
   ]
  },
  {
   "cell_type": "code",
   "execution_count": null,
   "metadata": {
    "colab": {
     "base_uri": "https://localhost:8080/",
     "height": 573
    },
    "id": "V6-kaiTXhTUl",
    "outputId": "a143dc33-9c62-4bd5-8154-fe7414112044"
   },
   "outputs": [
    {
     "data": {
      "image/png": "[encoded data removed]",
      "text/plain": [
       "<Figure size 432x288 with 1 Axes>"
      ]
     },
     "metadata": {
      "needs_background": "light"
     },
     "output_type": "display_data"
    },
    {
     "data": {
      "image/png": "[encoded data removed]",
      "text/plain": [
       "<Figure size 432x288 with 1 Axes>"
      ]
     },
     "metadata": {
      "needs_background": "light"
     },
     "output_type": "display_data"
    }
   ],
   "source": [
    "model_path5 = get_model_name(\"HandGesture\", batch_size=64, learning_rate=0.02, epoch=19)\n",
    "plot_training_curve(model_path5)"
   ]
  },
  {
   "cell_type": "markdown",
   "metadata": {
    "id": "1qUFgHQRFj0q"
   },
   "source": [
    "The model I will chooose is the one that gives the lowest validation error, and does not show an overfitting in the training dataset. For this reason, the best model out of all the ones I trained is: HandGestureClassifier2 with train_net(HandGestureNet, batch_size=64, learning_rate=0.01, num_epochs=30)"
   ]
  },
  {
   "cell_type": "code",
   "execution_count": null,
   "metadata": {
    "colab": {
     "base_uri": "https://localhost:8080/"
    },
    "id": "2eJ7AbVl6-ax",
    "outputId": "ad5b085b-b016-4f6c-99b4-17bed4ddc969"
   },
   "outputs": [
    {
     "name": "stdout",
     "output_type": "stream",
     "text": [
      "CUDA is available!  Training on GPU ...\n"
     ]
    },
    {
     "data": {
      "text/plain": [
       "(0.18406593406593408, 1.2579995095729828)"
      ]
     },
     "execution_count": 31,
     "metadata": {},
     "output_type": "execute_result"
    }
   ],
   "source": [
    "net = HandGestureClassifer2()\n",
    "use_cuda = True\n",
    "\n",
    "if use_cuda and torch.cuda.is_available():\n",
    "  net.cuda()\n",
    "  print('CUDA is available!  Training on GPU ...')\n",
    "else:\n",
    "  print('CUDA is not available.  Training on CPU ...')\n",
    "\n",
    "model_path6 = get_model_name(net.name, batch_size=64, learning_rate=0.01, epoch=26)\n",
    "state = torch.load(model_path6)\n",
    "net.load_state_dict(state)\n",
    "\n",
    "train_loader, val_loader, test_loader= get_data_loader(batch_size=64)\n",
    "\n",
    "evaluate(net, test_loader, nn.CrossEntropyLoss())"
   ]
  },
  {
   "cell_type": "markdown",
   "metadata": {
    "id": "XjmerMANknvG"
   },
   "source": [
    "The prediction for the testing data has an accuracy of 82%, which is good."
   ]
  },
  {
   "cell_type": "markdown",
   "metadata": {
    "id": "Wrem-iXV6_Bz"
   },
   "source": [
    "### Transfer Learning\n",
    "\n",
    "For many image classification tasks, it is generally not a good idea to train a very large deep neural network\n",
    "model from scratch due to the enormous compute requirements and lack of sufficient amounts of training\n",
    "data. It is better to use transfer learning. \n",
    "\n",
    "Convolution layers extract various features from the images which get utilized by the fully connected layers for correct classification. AlexNet architecture played a pivotal role in establishing Deep Neural Nets as a go-to tool for image classification problems and I will use an ImageNet pre-trained AlexNet model to extract features in this code."
   ]
  },
  {
   "cell_type": "code",
   "execution_count": null,
   "metadata": {
    "id": "BJKcTW9C7TZk"
   },
   "outputs": [],
   "source": [
    "import torchvision.models\n",
    "alexnet = torchvision.models.alexnet(pretrained=True)"
   ]
  },
  {
   "cell_type": "markdown",
   "metadata": {
    "id": "NQ0GZYaP7VAR"
   },
   "source": [
    "The alexnet model is split up into two components: *alexnet.features* and *alexnet.classifier*. The\n",
    "first neural network component, *alexnet.features*, is used to compute convolutional features, which are\n",
    "taken as input in *alexnet.classifier*.\n",
    "\n",
    "The neural network alexnet.features expects an image tensor of shape Nx3x224x224 as input and it will\n",
    "output a tensor of shape Nx256x6x6 where N is the batch size."
   ]
  },
  {
   "cell_type": "code",
   "execution_count": null,
   "metadata": {
    "id": "oX7SjVdB7XAE"
   },
   "outputs": [],
   "source": [
    "def feature_extraction(dataset): #this function will extract the features for any of the datasets we have, training, validation and testing.\n",
    "\n",
    "  data_loader=torch.utils.data.DataLoader(dataset, batch_size=64,shuffle=True)\n",
    "\n",
    "  features=[]\n",
    "\n",
    "  for i, labels in iter(data_loader):\n",
    "    imgs=alexnet.features(i)\n",
    "    features_only=torch.stack([j for j in imgs]) #note that we need to stack the features for each of the images that we have in our dataset\n",
    "    labels=torch.stack([j for j in labels])\n",
    "    features.append((features_only,labels))\n",
    "\n",
    "  return features #this turns a list of tensors that are the images and the labels"
   ]
  },
  {
   "cell_type": "code",
   "execution_count": null,
   "metadata": {
    "colab": {
     "base_uri": "https://localhost:8080/"
    },
    "id": "kYvesYe5rMxz",
    "outputId": "cdf24338-2927-463b-fc42-e7e7476f1c92"
   },
   "outputs": [
    {
     "name": "stderr",
     "output_type": "stream",
     "text": [
      "/usr/local/lib/python3.7/dist-packages/torch/nn/functional.py:718: UserWarning: Named tensors and all their associated APIs are an experimental feature and subject to change. Please do not use them for anything important until they are released as stable. (Triggered internally at  /pytorch/c10/core/TensorImpl.h:1156.)\n",
      "  return torch.max_pool2d(input, kernel_size, stride, padding, dilation, ceil_mode)\n"
     ]
    }
   ],
   "source": [
    "features1=feature_extraction(train_sampler)\n",
    "features2=feature_extraction(val_sampler)\n",
    "features3=feature_extraction(test_sampler)"
   ]
  },
  {
   "cell_type": "code",
   "execution_count": null,
   "metadata": {
    "id": "TBo1BpL373LX"
   },
   "outputs": [],
   "source": [
    "#print(features1) if we want to display them we could this way\n",
    "#print(features2)\n",
    "#print(features3)"
   ]
  },
  {
   "cell_type": "markdown",
   "metadata": {
    "id": "7c217DKCnC6G"
   },
   "source": [
    "Since the AlexNet practically computes the features, I would no longer need convolutional and pooling layers to consolidate the information regarding the features present in the images (we could add for more details but this could overfit). For this reason, I only included fully connected layers that receive the features from the AlexNet as inputs and predicts which class the images are in.\n",
    "\n",
    "Since the size of the features is 256x6x6, this will be the input size of the first layer, and the output is 10 and the output of the second layer is 9, each representing one of the classes (hand gestures). This number could be increased but my model performed well with 2 layers."
   ]
  },
  {
   "cell_type": "code",
   "execution_count": null,
   "metadata": {
    "id": "oVTuHUeV78-U"
   },
   "outputs": [],
   "source": [
    "class AlexNetClassifier(nn.Module):\n",
    "    def __init__(self):\n",
    "        super(AlexNetClassifier, self).__init__()\n",
    "        self.fc1 = nn.Linear(256 * 6 * 6, 15)\n",
    "        self.fc2 = nn.Linear(15, 9)\n",
    "\n",
    "    def forward(self, x):\n",
    "        x = x.view(-1, 256 * 6 * 6) #flatten feature data\n",
    "        x = F.relu(self.fc1(x))\n",
    "        x = self.fc2(x)\n",
    "        return x"
   ]
  },
  {
   "cell_type": "markdown",
   "metadata": {
    "id": "wVAGuURu7-9q"
   },
   "source": [
    "#### Training Code"
   ]
  },
  {
   "cell_type": "code",
   "execution_count": null,
   "metadata": {
    "id": "lv9zroaemHyO"
   },
   "outputs": [],
   "source": [
    "def get_accuracy(model, train=False):\n",
    "    if train:\n",
    "        data_loader = features1\n",
    "    else:\n",
    "        data_loader = features2\n",
    "    correct = 0\n",
    "    total = 0\n",
    "    for imgs, labels in data_loader:\n",
    "        if use_cuda and torch.cuda.is_available():\n",
    "          imgs = imgs.cuda()\n",
    "          labels = labels.cuda()\n",
    "        output = model(imgs)\n",
    "        \n",
    "        pred = output.max(1, keepdim=True)[1]\n",
    "        correct += pred.eq(labels.view_as(pred)).sum().item()\n",
    "        total += imgs.shape[0]\n",
    "    return correct / total"
   ]
  },
  {
   "cell_type": "code",
   "execution_count": null,
   "metadata": {
    "id": "CW2G3vQomFl0"
   },
   "outputs": [],
   "source": [
    "def train(model, features, batch_size=64, num_epochs=1):\n",
    "\n",
    "    criterion = nn.CrossEntropyLoss()\n",
    "    optimizer = optim.SGD(model.parameters(), lr=0.01, momentum=0.9)\n",
    "\n",
    "    iters, losses, train_acc, val_acc = [], [], [], []\n",
    "\n",
    "    n = 0 \n",
    "    for epoch in range(num_epochs):\n",
    "        for imgs, labels in iter(features):\n",
    "            imgs = torch.from_numpy(imgs.detach().numpy())\n",
    "            if use_cuda and torch.cuda.is_available():\n",
    "              imgs = imgs.cuda()\n",
    "              labels = labels.cuda()\n",
    "\n",
    "            out = model(imgs)\n",
    "            loss = criterion(out, labels)\n",
    "            loss.backward()\n",
    "            optimizer.step()\n",
    "            optimizer.zero_grad()\n",
    "\n",
    "            iters.append(n)\n",
    "            losses.append(float(loss)/batch_size)\n",
    "            train_acc.append(get_accuracy(model, train=True)) \n",
    "            val_acc.append(get_accuracy(model, train=False))\n",
    "            n += 1\n",
    "\n",
    "    plt.title(\"Training Curve\")\n",
    "    plt.plot(iters, losses, label=\"Train\")\n",
    "    plt.xlabel(\"Iterations\")\n",
    "    plt.ylabel(\"Loss\")\n",
    "    plt.show()\n",
    "\n",
    "    plt.title(\"Training Curve\")\n",
    "    plt.plot(iters, train_acc, label=\"Train\")\n",
    "    plt.plot(iters, val_acc, label=\"Validation\")\n",
    "    plt.xlabel(\"Iterations\")\n",
    "    plt.ylabel(\"Training Accuracy\")\n",
    "    plt.legend(loc='best')\n",
    "    plt.show()\n",
    "\n",
    "    print(\"Final Training Accuracy: {}\".format(train_acc[-1]))\n",
    "    print(\"Final Validation Accuracy: {}\".format(val_acc[-1]))"
   ]
  },
  {
   "cell_type": "code",
   "execution_count": null,
   "metadata": {
    "colab": {
     "base_uri": "https://localhost:8080/",
     "height": 624
    },
    "id": "Te1c9Gm8mB2h",
    "outputId": "565fdd53-53e9-467a-ae69-fb968eeee4f0"
   },
   "outputs": [
    {
     "name": "stdout",
     "output_type": "stream",
     "text": [
      "CUDA is not available.  Training on CPU ...\n"
     ]
    },
    {
     "data": {
      "image/png": "[encoded data removed]",
      "text/plain": [
       "<Figure size 432x288 with 1 Axes>"
      ]
     },
     "metadata": {
      "needs_background": "light"
     },
     "output_type": "display_data"
    },
    {
     "data": {
      "image/png": "[encoded data removed]",
      "text/plain": [
       "<Figure size 432x288 with 1 Axes>"
      ]
     },
     "metadata": {
      "needs_background": "light"
     },
     "output_type": "display_data"
    },
    {
     "name": "stdout",
     "output_type": "stream",
     "text": [
      "Final Training Accuracy: 1.0\n",
      "Final Validation Accuracy: 0.9368131868131868\n"
     ]
    }
   ],
   "source": [
    "import matplotlib.pyplot as plt\n",
    "\n",
    "use_cuda = True\n",
    "\n",
    "model = AlexNetClassifier()\n",
    "\n",
    "if use_cuda and torch.cuda.is_available():\n",
    "  model.cuda()\n",
    "  print('CUDA is available!  Training on GPU ...')\n",
    "else:\n",
    "  print('CUDA is not available.  Training on CPU ...')\n",
    "  \n",
    "train(model, features1, num_epochs=30)"
   ]
  },
  {
   "cell_type": "markdown",
   "metadata": {
    "id": "hQ2tvqJ68Mqb"
   },
   "source": [
    "#### Testing Set"
   ]
  },
  {
   "cell_type": "code",
   "execution_count": null,
   "metadata": {
    "id": "yCp_kFSg8Q2T"
   },
   "outputs": [],
   "source": [
    "def get_accuracy(model, features):\n",
    "    correct = 0\n",
    "    total = 0\n",
    "    for imgs, labels in features:\n",
    "        if use_cuda and torch.cuda.is_available():\n",
    "          imgs = imgs.cuda()\n",
    "          labels = labels.cuda()\n",
    "        output = model(imgs)\n",
    "        \n",
    "        pred = output.max(1, keepdim=True)[1]\n",
    "        correct += pred.eq(labels.view_as(pred)).sum().item()\n",
    "        total += imgs.shape[0]\n",
    "    return correct / total"
   ]
  },
  {
   "cell_type": "code",
   "execution_count": null,
   "metadata": {
    "colab": {
     "base_uri": "https://localhost:8080/"
    },
    "id": "hy4MUnSS_-Av",
    "outputId": "469bdf83-c433-45ac-b8ca-16bde551fc48"
   },
   "outputs": [
    {
     "data": {
      "text/plain": [
       "0.9285714285714286"
      ]
     },
     "execution_count": 28,
     "metadata": {},
     "output_type": "execute_result"
    }
   ],
   "source": [
    "get_accuracy(model,features3)"
   ]
  },
  {
   "cell_type": "markdown",
   "metadata": {
    "id": "N0nZ-1OA6G_I"
   },
   "source": [
    "The test accuracy is 0.928 (>90%) which is similar to the one for validation. This is a good indication. This performs way better than the model we had in part 3(d) without transfer learning (only 82%). This is because AlexNet had already been trained on large datasets and can retrieve the important features more than the model we manually create with convolutional, pooling and fully connected layers. This shows how useful transfer learning is. Also, the training takes much less time."
   ]
  },
  {
   "cell_type": "markdown",
   "metadata": {
    "id": "XrDPb0orGZYJ"
   },
   "source": [
    "#### Testing on New Data\n",
    "\n",
    "I took some sample images of my hands to test the performance of the best model developed."
   ]
  },
  {
   "cell_type": "code",
   "execution_count": null,
   "metadata": {
    "id": "zjZi7wjxArVH"
   },
   "outputs": [],
   "source": [
    "features4=feature_extraction(dataset2)"
   ]
  },
  {
   "cell_type": "code",
   "execution_count": null,
   "metadata": {
    "colab": {
     "base_uri": "https://localhost:8080/"
    },
    "id": "AAvgriqUNoOx",
    "outputId": "07d8ef87-09c9-4f31-9f37-026c9fc47d8d"
   },
   "outputs": [
    {
     "name": "stdout",
     "output_type": "stream",
     "text": [
      "Accuracy of my predicting the pictures of my hands is: 0.9259259259259259\n",
      "\n",
      "  Hand Gestures            Accuracy\n",
      "0             A                 1.0\n",
      "1             B  0.6666666666666666\n",
      "2             C                 1.0\n",
      "3             D  0.6666666666666666\n",
      "4             E                 1.0\n",
      "5             F                 1.0\n",
      "6             G                 1.0\n",
      "7             H                 1.0\n",
      "8             I                 1.0\n"
     ]
    }
   ],
   "source": [
    "import pandas as pd\n",
    "\n",
    "accurate_results=[]\n",
    "correct = 0\n",
    "total = 0\n",
    "for imgs, labels in features4:\n",
    "  if use_cuda and torch.cuda.is_available():\n",
    "    imgs = imgs.cuda()\n",
    "    labels = labels.cuda()\n",
    "  output = model(imgs)\n",
    "        \n",
    "  pred = output.max(1, keepdim=True)[1]\n",
    "  pred=pred.cpu()\n",
    "  pred2=(pred.detach().numpy()).reshape(1,-1)[0]\n",
    "  labels=labels.cpu()\n",
    "  labels2=(labels.detach().numpy()).reshape(1,-1)[0]\n",
    "  correct += pred.eq(labels.view_as(pred)).sum().item()\n",
    "  total += imgs.shape[0]\n",
    "print(\"Accuracy of my predicting the pictures of my hands is:\", correct/total)\n",
    "\n",
    "for i in range(27):\n",
    "  if pred2[i]==labels2[i]:\n",
    "    accurate_results.append(labels2[i])\n",
    "\n",
    "unique, counts = np.unique(accurate_results, return_counts=True)\n",
    "accurate_results=(counts/3).reshape(-1,1)\n",
    "gestures=np.array(['I','G','A','F','H','C','D','E','B']).reshape(-1,1) #I got this order from when we unzipped the folders\n",
    "gestures_final=np.concatenate((gestures,accurate_results),axis=1)\n",
    "gestures_result=pd.DataFrame(gestures_final,columns=['Hand Gestures','Accuracy'])\n",
    "gestures_result=gestures_result.sort_values('Hand Gestures', ascending=True,ignore_index=True)\n",
    "print()\n",
    "print(gestures_result)"
   ]
  },
  {
   "cell_type": "markdown",
   "metadata": {
    "id": "NtP6ldHrb_gY"
   },
   "source": [
    "The reason why my model did not perform so well in handgestures B and D is because the pictures of my hands had nail polish and a ring on, which is something very rare to have been seen in the training data. Specifically in these letters, the nails are showing more than the others which could have made the model miss the handgestures. However, the model performed good (accuracy of 0.925) which is indicative that it learned well in the transfer learning part."
   ]
  }
 ],
 "metadata": {
  "accelerator": "GPU",
  "colab": {
   "collapsed_sections": [],
   "name": "LAB_2_Hand_Gesture_Recognition.ipynb",
   "provenance": []
  },
  "kernelspec": {
   "display_name": "Python 3 (ipykernel)",
   "language": "python",
   "name": "python3"
  },
  "language_info": {
   "codemirror_mode": {
    "name": "ipython",
    "version": 3
   },
   "file_extension": ".py",
   "mimetype": "text/x-python",
   "name": "python",
   "nbconvert_exporter": "python",
   "pygments_lexer": "ipython3",
   "version": "3.9.7"
  }
 },
 "nbformat": 4,
 "nbformat_minor": 1
}
